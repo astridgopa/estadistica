{
 "cells": [
  {
   "cell_type": "markdown",
   "metadata": {},
   "source": [
    "## Distribución binomial"
   ]
  },
  {
   "cell_type": "markdown",
   "metadata": {},
   "source": [
    "En 460 partidos de la NFL, 252 se han ganado por el equipo que gana el volado inicial. ¿Es puro azar o representa una ventaja significativa?"
   ]
  },
  {
   "cell_type": "markdown",
   "metadata": {},
   "source": [
    "Hallar la probabilida de 252 victorias o más en 460 partidos, cada uno con una probabilidad de 0.5"
   ]
  },
  {
   "cell_type": "code",
   "execution_count": 22,
   "metadata": {},
   "outputs": [],
   "source": [
    "p252omas <- sum(dbinom(x=252:460, size=460, prob=0.5))"
   ]
  },
  {
   "cell_type": "code",
   "execution_count": 23,
   "metadata": {},
   "outputs": [
    {
     "data": {
      "text/html": [
       "0.0224289365405561"
      ],
      "text/latex": [
       "0.0224289365405561"
      ],
      "text/markdown": [
       "0.0224289365405561"
      ],
      "text/plain": [
       "[1] 0.02242894"
      ]
     },
     "metadata": {},
     "output_type": "display_data"
    }
   ],
   "source": [
    "p252omas"
   ]
  },
  {
   "cell_type": "code",
   "execution_count": 24,
   "metadata": {},
   "outputs": [
    {
     "data": {
      "text/html": [
       "0.0224289365405561"
      ],
      "text/latex": [
       "0.0224289365405561"
      ],
      "text/markdown": [
       "0.0224289365405561"
      ],
      "text/plain": [
       "[1] 0.02242894"
      ]
     },
     "metadata": {},
     "output_type": "display_data"
    }
   ],
   "source": [
    "sum (p252omas)"
   ]
  },
  {
   "cell_type": "markdown",
   "metadata": {},
   "source": [
    "# rango de significancia\n"
   ]
  },
  {
   "cell_type": "markdown",
   "metadata": {},
   "source": [
    "$$ \\mu =268 $$\n",
    "$$ \\sigma = 15 $$\n",
    "$$ rango = \\mu \\pm 2\\sigma $$"
   ]
  },
  {
   "cell_type": "code",
   "execution_count": 28,
   "metadata": {},
   "outputs": [],
   "source": [
    "mu <- 460*0.5\n",
    "ancho <- 2*sqrt(460*0.5*0.5)"
   ]
  },
  {
   "cell_type": "code",
   "execution_count": 29,
   "metadata": {},
   "outputs": [
    {
     "data": {
      "text/html": [
       "251.447610589527"
      ],
      "text/latex": [
       "251.447610589527"
      ],
      "text/markdown": [
       "251.447610589527"
      ],
      "text/plain": [
       "[1] 251.4476"
      ]
     },
     "metadata": {},
     "output_type": "display_data"
    }
   ],
   "source": [
    "mu + ancho"
   ]
  },
  {
   "cell_type": "code",
   "execution_count": 30,
   "metadata": {},
   "outputs": [
    {
     "data": {
      "text/html": [
       "208.552389410473"
      ],
      "text/latex": [
       "208.552389410473"
      ],
      "text/markdown": [
       "208.552389410473"
      ],
      "text/plain": [
       "[1] 208.5524"
      ]
     },
     "metadata": {},
     "output_type": "display_data"
    }
   ],
   "source": [
    "mu - ancho"
   ]
  },
  {
   "cell_type": "markdown",
   "metadata": {},
   "source": [
    "Por lo que el rango de significancia se encuentra entre 208.55 y 251.44"
   ]
  },
  {
   "cell_type": "markdown",
   "metadata": {},
   "source": [
    "Al salirse los 252 partidos del rango, significa que nos aleatorio que se ganen tantos partidos"
   ]
  },
  {
   "cell_type": "code",
   "execution_count": null,
   "metadata": {},
   "outputs": [],
   "source": []
  }
 ],
 "metadata": {
  "kernelspec": {
   "display_name": "R",
   "language": "R",
   "name": "ir"
  },
  "language_info": {
   "codemirror_mode": "r",
   "file_extension": ".r",
   "mimetype": "text/x-r-source",
   "name": "R",
   "pygments_lexer": "r",
   "version": "3.6.1"
  }
 },
 "nbformat": 4,
 "nbformat_minor": 2
}
