{
 "cells": [
  {
   "cell_type": "markdown",
   "metadata": {},
   "source": [
    "# Tarea Probabilidad de éxito mayor a 50% en el examen de la ENARM"
   ]
  },
  {
   "cell_type": "markdown",
   "metadata": {},
   "source": [
    "Probabilidades de pasar el examen:"
   ]
  },
  {
   "cell_type": "markdown",
   "metadata": {},
   "source": [
    "Probabilidad de ser aprobado = 0.216\n",
    "Probabilidad de no ser aprobado = 1-0.216 = 0.784"
   ]
  },
  {
   "cell_type": "markdown",
   "metadata": {},
   "source": [
    "A continuación se ve el árbol de decisiones "
   ]
  },
  {
   "cell_type": "markdown",
   "metadata": {},
   "source": [
    "![image](https://i.imgur.com/sfTUG3n.png)"
   ]
  },
  {
   "cell_type": "code",
   "execution_count": 25,
   "metadata": {
    "scrolled": true
   },
   "outputs": [],
   "source": [
    "datos <-read.csv('intentos_examen.csv')"
   ]
  },
  {
   "cell_type": "code",
   "execution_count": 26,
   "metadata": {
    "scrolled": false
   },
   "outputs": [
    {
     "data": {
      "text/html": [
       "<table>\n",
       "<thead><tr><th scope=col>Intento</th><th scope=col>Probabilidad</th></tr></thead>\n",
       "<tbody>\n",
       "\t<tr><td>1    </td><td>0.784</td></tr>\n",
       "\t<tr><td>2    </td><td>0.784</td></tr>\n",
       "\t<tr><td>3    </td><td>0.784</td></tr>\n",
       "\t<tr><td>4    </td><td>0.784</td></tr>\n",
       "\t<tr><td>5    </td><td>0.784</td></tr>\n",
       "\t<tr><td>6    </td><td>0.784</td></tr>\n",
       "</tbody>\n",
       "</table>\n"
      ],
      "text/latex": [
       "\\begin{tabular}{r|ll}\n",
       " Intento & Probabilidad\\\\\n",
       "\\hline\n",
       "\t 1     & 0.784\\\\\n",
       "\t 2     & 0.784\\\\\n",
       "\t 3     & 0.784\\\\\n",
       "\t 4     & 0.784\\\\\n",
       "\t 5     & 0.784\\\\\n",
       "\t 6     & 0.784\\\\\n",
       "\\end{tabular}\n"
      ],
      "text/markdown": [
       "\n",
       "| Intento | Probabilidad |\n",
       "|---|---|\n",
       "| 1     | 0.784 |\n",
       "| 2     | 0.784 |\n",
       "| 3     | 0.784 |\n",
       "| 4     | 0.784 |\n",
       "| 5     | 0.784 |\n",
       "| 6     | 0.784 |\n",
       "\n"
      ],
      "text/plain": [
       "  Intento Probabilidad\n",
       "1 1       0.784       \n",
       "2 2       0.784       \n",
       "3 3       0.784       \n",
       "4 4       0.784       \n",
       "5 5       0.784       \n",
       "6 6       0.784       "
      ]
     },
     "metadata": {},
     "output_type": "display_data"
    }
   ],
   "source": [
    "head(datos)"
   ]
  },
  {
   "cell_type": "markdown",
   "metadata": {},
   "source": [
    "Para calcular lo probabilidad de aprobación de cada intento, primero tenemos que calcular la probabilidad de no aprobar en cada intento, para ello elevamos la probabilidad de no aprobar a la potencia de número de intentos a través de la siguiente fórmula"
   ]
  },
  {
   "cell_type": "markdown",
   "metadata": {},
   "source": [
    "$Probabilidad^(Intento) $ "
   ]
  },
  {
   "cell_type": "code",
   "execution_count": 46,
   "metadata": {},
   "outputs": [],
   "source": [
    "P_Noaprobar <-'^'(datos$Probabilidad,datos$Intento)"
   ]
  },
  {
   "cell_type": "code",
   "execution_count": 44,
   "metadata": {},
   "outputs": [
    {
     "data": {
      "text/html": [
       "<ol class=list-inline>\n",
       "\t<li>0.784</li>\n",
       "\t<li>0.614656</li>\n",
       "\t<li>0.481890304</li>\n",
       "\t<li>0.377801998336</li>\n",
       "\t<li>0.296196766695424</li>\n",
       "\t<li>0.232218265089212</li>\n",
       "</ol>\n"
      ],
      "text/latex": [
       "\\begin{enumerate*}\n",
       "\\item 0.784\n",
       "\\item 0.614656\n",
       "\\item 0.481890304\n",
       "\\item 0.377801998336\n",
       "\\item 0.296196766695424\n",
       "\\item 0.232218265089212\n",
       "\\end{enumerate*}\n"
      ],
      "text/markdown": [
       "1. 0.784\n",
       "2. 0.614656\n",
       "3. 0.481890304\n",
       "4. 0.377801998336\n",
       "5. 0.296196766695424\n",
       "6. 0.232218265089212\n",
       "\n",
       "\n"
      ],
      "text/plain": [
       "[1] 0.7840000 0.6146560 0.4818903 0.3778020 0.2961968 0.2322183"
      ]
     },
     "metadata": {},
     "output_type": "display_data"
    }
   ],
   "source": [
    "head (P_Noaprobar)"
   ]
  },
  {
   "cell_type": "markdown",
   "metadata": {},
   "source": [
    "Ahora calculamos la probabilidad de Aprobar, esa probabilidad es el complemento de la probabilidad de No aprobar y se calcula como:"
   ]
  },
  {
   "cell_type": "markdown",
   "metadata": {},
   "source": [
    "$ Aprobar = 1 - Probabilidad de Noaprobar $"
   ]
  },
  {
   "cell_type": "code",
   "execution_count": 53,
   "metadata": {},
   "outputs": [],
   "source": [
    "P_Aprobar <- 1-(P_Noaprobar)"
   ]
  },
  {
   "cell_type": "code",
   "execution_count": 54,
   "metadata": {},
   "outputs": [
    {
     "data": {
      "text/html": [
       "<ol class=list-inline>\n",
       "\t<li>0.216</li>\n",
       "\t<li>0.385344</li>\n",
       "\t<li>0.518109696</li>\n",
       "\t<li>0.622198001664</li>\n",
       "\t<li>0.703803233304576</li>\n",
       "\t<li>0.767781734910787</li>\n",
       "</ol>\n"
      ],
      "text/latex": [
       "\\begin{enumerate*}\n",
       "\\item 0.216\n",
       "\\item 0.385344\n",
       "\\item 0.518109696\n",
       "\\item 0.622198001664\n",
       "\\item 0.703803233304576\n",
       "\\item 0.767781734910787\n",
       "\\end{enumerate*}\n"
      ],
      "text/markdown": [
       "1. 0.216\n",
       "2. 0.385344\n",
       "3. 0.518109696\n",
       "4. 0.622198001664\n",
       "5. 0.703803233304576\n",
       "6. 0.767781734910787\n",
       "\n",
       "\n"
      ],
      "text/plain": [
       "[1] 0.2160000 0.3853440 0.5181097 0.6221980 0.7038032 0.7677817"
      ]
     },
     "metadata": {},
     "output_type": "display_data"
    }
   ],
   "source": [
    "head (P_Aprobar)"
   ]
  },
  {
   "cell_type": "markdown",
   "metadata": {},
   "source": [
    "Al final se ponen los datos en una tabla para revisar en qué intento la probabilidad de aprobar es de 0.5 "
   ]
  },
  {
   "cell_type": "code",
   "execution_count": 59,
   "metadata": {},
   "outputs": [],
   "source": [
    "summary <-data.frame(datos,P_Noaprobar,P_Aprobar)"
   ]
  },
  {
   "cell_type": "code",
   "execution_count": 60,
   "metadata": {},
   "outputs": [
    {
     "data": {
      "text/html": [
       "<table>\n",
       "<thead><tr><th scope=col>Intento</th><th scope=col>Probabilidad</th><th scope=col>P_Noaprobar</th><th scope=col>P_Aprobar</th></tr></thead>\n",
       "<tbody>\n",
       "\t<tr><td>1        </td><td>0.784    </td><td>0.7840000</td><td>0.2160000</td></tr>\n",
       "\t<tr><td>2        </td><td>0.784    </td><td>0.6146560</td><td>0.3853440</td></tr>\n",
       "\t<tr><td>3        </td><td>0.784    </td><td>0.4818903</td><td>0.5181097</td></tr>\n",
       "\t<tr><td>4        </td><td>0.784    </td><td>0.3778020</td><td>0.6221980</td></tr>\n",
       "\t<tr><td>5        </td><td>0.784    </td><td>0.2961968</td><td>0.7038032</td></tr>\n",
       "\t<tr><td>6        </td><td>0.784    </td><td>0.2322183</td><td>0.7677817</td></tr>\n",
       "</tbody>\n",
       "</table>\n"
      ],
      "text/latex": [
       "\\begin{tabular}{r|llll}\n",
       " Intento & Probabilidad & P\\_Noaprobar & P\\_Aprobar\\\\\n",
       "\\hline\n",
       "\t 1         & 0.784     & 0.7840000 & 0.2160000\\\\\n",
       "\t 2         & 0.784     & 0.6146560 & 0.3853440\\\\\n",
       "\t 3         & 0.784     & 0.4818903 & 0.5181097\\\\\n",
       "\t 4         & 0.784     & 0.3778020 & 0.6221980\\\\\n",
       "\t 5         & 0.784     & 0.2961968 & 0.7038032\\\\\n",
       "\t 6         & 0.784     & 0.2322183 & 0.7677817\\\\\n",
       "\\end{tabular}\n"
      ],
      "text/markdown": [
       "\n",
       "| Intento | Probabilidad | P_Noaprobar | P_Aprobar |\n",
       "|---|---|---|---|\n",
       "| 1         | 0.784     | 0.7840000 | 0.2160000 |\n",
       "| 2         | 0.784     | 0.6146560 | 0.3853440 |\n",
       "| 3         | 0.784     | 0.4818903 | 0.5181097 |\n",
       "| 4         | 0.784     | 0.3778020 | 0.6221980 |\n",
       "| 5         | 0.784     | 0.2961968 | 0.7038032 |\n",
       "| 6         | 0.784     | 0.2322183 | 0.7677817 |\n",
       "\n"
      ],
      "text/plain": [
       "  Intento Probabilidad P_Noaprobar P_Aprobar\n",
       "1 1       0.784        0.7840000   0.2160000\n",
       "2 2       0.784        0.6146560   0.3853440\n",
       "3 3       0.784        0.4818903   0.5181097\n",
       "4 4       0.784        0.3778020   0.6221980\n",
       "5 5       0.784        0.2961968   0.7038032\n",
       "6 6       0.784        0.2322183   0.7677817"
      ]
     },
     "metadata": {},
     "output_type": "display_data"
    }
   ],
   "source": [
    "head (summary)"
   ]
  },
  {
   "cell_type": "markdown",
   "metadata": {},
   "source": [
    "Como se muestra en la tabla anterior, la probabilidad de aprobar de 0.5 se da en el tercer intento"
   ]
  },
  {
   "cell_type": "code",
   "execution_count": null,
   "metadata": {},
   "outputs": [],
   "source": []
  }
 ],
 "metadata": {
  "kernelspec": {
   "display_name": "R",
   "language": "R",
   "name": "ir"
  },
  "language_info": {
   "codemirror_mode": "r",
   "file_extension": ".r",
   "mimetype": "text/x-r-source",
   "name": "R",
   "pygments_lexer": "r",
   "version": "3.6.1"
  }
 },
 "nbformat": 4,
 "nbformat_minor": 2
}
